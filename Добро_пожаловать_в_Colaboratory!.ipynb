{
  "cells": [
    {
      "cell_type": "markdown",
      "metadata": {
        "id": "view-in-github",
        "colab_type": "text"
      },
      "source": [
        "<a href=\"https://colab.research.google.com/github/DastanOrozbekov03/tesst/blob/master/%D0%94%D0%BE%D0%B1%D1%80%D0%BE_%D0%BF%D0%BE%D0%B6%D0%B0%D0%BB%D0%BE%D0%B2%D0%B0%D1%82%D1%8C_%D0%B2_Colaboratory!.ipynb\" target=\"_parent\"><img src=\"https://colab.research.google.com/assets/colab-badge.svg\" alt=\"Open In Colab\"/></a>"
      ]
    },
    {
      "cell_type": "code",
      "source": [
        "num = 2\n",
        "i = 2\n",
        "while i<9+1 and num < 9 + 1:\n",
        "  print(f'{num} x {i} = {num * i}')\n",
        "  i += 1\n",
        "  if i == 10:\n",
        "    i = 1\n",
        "    num += 1\n",
        ""
      ],
      "metadata": {
        "id": "rUynUw6Q8Ucw"
      },
      "execution_count": null,
      "outputs": []
    },
    {
      "cell_type": "code",
      "source": [
        "num = 2\n",
        "i = 2\n",
        "while i<9+1:\n",
        "  while num < 9 + 1:\n",
        "    print(f'{num} x {i} = {num * i : 2d}', end=\"\")\n",
        "    num += 1\n",
        "  print('')\n",
        "  num = 2\n",
        "  i += 1"
      ],
      "metadata": {
        "id": "KWEsysk69MYh",
        "outputId": "637cd648-5c3c-4f08-9e02-881d44b39e33",
        "colab": {
          "base_uri": "https://localhost:8080/"
        }
      },
      "execution_count": 5,
      "outputs": [
        {
          "output_type": "stream",
          "name": "stdout",
          "text": [
            "2 x 2 =  43 x 2 =  64 x 2 =  85 x 2 =  106 x 2 =  127 x 2 =  148 x 2 =  169 x 2 =  18\n",
            "2 x 3 =  63 x 3 =  94 x 3 =  125 x 3 =  156 x 3 =  187 x 3 =  218 x 3 =  249 x 3 =  27\n",
            "2 x 4 =  83 x 4 =  124 x 4 =  165 x 4 =  206 x 4 =  247 x 4 =  288 x 4 =  329 x 4 =  36\n",
            "2 x 5 =  103 x 5 =  154 x 5 =  205 x 5 =  256 x 5 =  307 x 5 =  358 x 5 =  409 x 5 =  45\n",
            "2 x 6 =  123 x 6 =  184 x 6 =  245 x 6 =  306 x 6 =  367 x 6 =  428 x 6 =  489 x 6 =  54\n",
            "2 x 7 =  143 x 7 =  214 x 7 =  285 x 7 =  356 x 7 =  427 x 7 =  498 x 7 =  569 x 7 =  63\n",
            "2 x 8 =  163 x 8 =  244 x 8 =  325 x 8 =  406 x 8 =  487 x 8 =  568 x 8 =  649 x 8 =  72\n",
            "2 x 9 =  183 x 9 =  274 x 9 =  365 x 9 =  456 x 9 =  547 x 9 =  638 x 9 =  729 x 9 =  81\n"
          ]
        }
      ]
    },
    {
      "cell_type": "code",
      "source": [
        "num = 2\n",
        "i = 1\n",
        "while num < 10:\n",
        "  while i < 10:\n",
        "    print(f'{num} x {i} = {num * i}', end=\" \")\n",
        "    i += 1\n",
        "    print('')\n",
        "  i += 1\n",
        "  num += 2\n",
        "  # while num < 9 + 1:\n",
        "  #   print(f'{num} x {i} = {num * i}', end=\"\")\n",
        "  #   num += 1\n",
        "  # print('')\n",
        ""
      ],
      "metadata": {
        "id": "L6DOS2Zu-Zcd",
        "outputId": "f9fdcdc9-d5fd-4338-f3f3-7be52eebeb32",
        "colab": {
          "base_uri": "https://localhost:8080/"
        }
      },
      "execution_count": 21,
      "outputs": [
        {
          "output_type": "stream",
          "name": "stdout",
          "text": [
            "2 x 1 = 2 \n",
            "2 x 2 = 4 \n",
            "2 x 3 = 6 \n",
            "2 x 4 = 8 \n",
            "2 x 5 = 10 \n",
            "2 x 6 = 12 \n",
            "2 x 7 = 14 \n",
            "2 x 8 = 16 \n",
            "2 x 9 = 18 \n"
          ]
        }
      ]
    },
    {
      "cell_type": "code",
      "source": [
        "yourName = input()\n",
        "print('Your name is {}.'.format(yourName))"
      ],
      "metadata": {
        "id": "8jq1nCAJDXJm",
        "outputId": "d06f26a4-acd1-44df-e873-f8ca6fc0e77b",
        "colab": {
          "base_uri": "https://localhost:8080/"
        }
      },
      "execution_count": 22,
      "outputs": [
        {
          "output_type": "stream",
          "name": "stdout",
          "text": [
            "Dastan\n",
            "Your name is Dastan.\n"
          ]
        }
      ]
    },
    {
      "cell_type": "code",
      "source": [
        "yourName = input('what is your name? ')\n",
        "print('Your name is {}.'.format(yourName))"
      ],
      "metadata": {
        "id": "S8Q_BwgrFSmH",
        "outputId": "18ac7320-c21e-47c1-858a-42dac1c0c6a6",
        "colab": {
          "base_uri": "https://localhost:8080/"
        }
      },
      "execution_count": 28,
      "outputs": [
        {
          "output_type": "stream",
          "name": "stdout",
          "text": [
            "what is your name? Dastan\n",
            "Your name is Dastan.\n"
          ]
        }
      ]
    },
    {
      "cell_type": "code",
      "source": [
        "yourName = input('what is your name? ')\n",
        "print('{} is your name  .'.format(yourName))"
      ],
      "metadata": {
        "id": "KWxyCfscFiQk",
        "outputId": "0079105d-4f3e-4755-a5d9-1334550cad13",
        "colab": {
          "base_uri": "https://localhost:8080/"
        }
      },
      "execution_count": 26,
      "outputs": [
        {
          "output_type": "stream",
          "name": "stdout",
          "text": [
            "what is your name? Dastan\n",
            "Dastanis your name  .\n"
          ]
        }
      ]
    },
    {
      "cell_type": "code",
      "source": [
        "try:\n",
        "  a = int(input('the length of one side of the square?:'))\n",
        "  area = a ** 2\n",
        "  print('Area of square is: {}'.format(area))\n",
        "except ValueError:\n",
        "  print('Invalid Input. Please enter a numberical value')"
      ],
      "metadata": {
        "id": "HTnNHo26GCCw",
        "outputId": "81790134-df91-4192-f723-a5049d0ea5ba",
        "colab": {
          "base_uri": "https://localhost:8080/"
        }
      },
      "execution_count": 30,
      "outputs": [
        {
          "output_type": "stream",
          "name": "stdout",
          "text": [
            "the length of one side of the square?:asfdg\n",
            "Invalid Input. Please enter a numberical value\n"
          ]
        }
      ]
    },
    {
      "cell_type": "code",
      "source": [
        "a = int(input('the length of one side of the square?:'))\n",
        "area = a ** 2\n",
        "print('Area of square is: {}'.format(area))"
      ],
      "metadata": {
        "id": "oxHL6FmvHEc5",
        "outputId": "b88766ea-9661-4aa4-9f44-1db395bb694f",
        "colab": {
          "base_uri": "https://localhost:8080/"
        }
      },
      "execution_count": 31,
      "outputs": [
        {
          "output_type": "stream",
          "name": "stdout",
          "text": [
            "the length of one side of the square?:98765\n",
            "Area of square is: 9754525225\n"
          ]
        }
      ]
    },
    {
      "cell_type": "code",
      "source": [
        "\n",
        "fruit1 = input('Пожалуйста, введите название фрукта:')\n",
        "fruit2 = input('Пожалуйста, введите название фрукта:')\n",
        "fruit3 = input('Пожалуйста, введите название фрукта:')\n",
        "fruit4 = input('Пожалуйста, введите название фрукта:')\n",
        "fruit5 = input('Пожалуйста, введите название фрукта:')\n",
        "result = [fruit1, fruit2, fruit3, fruit4, fruit5]\n",
        "print(result)"
      ],
      "metadata": {
        "id": "1XnNHaxLHYeh",
        "outputId": "7eeaaed9-344a-4413-ca5a-f7c8c469c144",
        "colab": {
          "base_uri": "https://localhost:8080/"
        }
      },
      "execution_count": 33,
      "outputs": [
        {
          "output_type": "stream",
          "name": "stdout",
          "text": [
            "Пожалуйста, введите название фрукта:grape\n",
            "Пожалуйста, введите название фрукта:orange\n",
            "Пожалуйста, введите название фрукта:banana\n",
            "Пожалуйста, введите название фрукта:melon\n",
            "Пожалуйста, введите название фрукта:pear\n",
            "['grape', 'orange', 'banana', 'melon', 'pear']\n"
          ]
        }
      ]
    },
    {
      "cell_type": "code",
      "source": [
        "score1 = int(input(\"Пожалуйста, input score:\"))\n",
        "score2 = int(input(\"Пожалуйста, input score:\"))\n",
        "score3 = int(input(\"Пожалуйста, input score:\"))\n",
        "score4 = int(input(\"Пожалуйста, input score:\"))\n",
        "score5 = int(input(\"Пожалуйста, input score:\"))\n",
        "score = [score1, score2, score3, score4, score5]\n",
        "print(score)\n",
        "for i in score:\n",
        "  for a in range(5):\n",
        "    if i < 60:\n",
        "      print(f'{a} student failed')\n",
        "    else:\n",
        "      print(f'{a}student passed')\n",
        "  break"
      ],
      "metadata": {
        "id": "NZLGpIy4IbLF",
        "outputId": "73a07e4a-b3df-4899-f965-6fa2896a9af8",
        "colab": {
          "base_uri": "https://localhost:8080/"
        }
      },
      "execution_count": 38,
      "outputs": [
        {
          "output_type": "stream",
          "name": "stdout",
          "text": [
            "Пожалуйста, input score:1\n",
            "Пожалуйста, input score:2\n",
            "Пожалуйста, input score:3\n",
            "Пожалуйста, input score:4\n",
            "Пожалуйста, input score:5\n",
            "[1, 2, 3, 4, 5]\n",
            "0 student failed\n",
            "1 student failed\n",
            "2 student failed\n",
            "3 student failed\n",
            "4 student failed\n"
          ]
        }
      ]
    },
    {
      "cell_type": "code",
      "source": [
        "arr = []\n",
        "a = int(input('Введите число:'))\n",
        "while a != '':\n",
        "  arr.append(int(a))\n",
        "  a = input('enter score:')\n",
        "\n",
        "h = ''\n",
        "print(arr)\n",
        "for i in arr:\n",
        "  if i < 60:\n",
        "    h = 'fail'\n",
        "  else:\n",
        "    h = 'passed'\n",
        ""
      ],
      "metadata": {
        "id": "YoxrFM7qKnHm",
        "outputId": "593f21fa-a94d-47e3-8230-3e4f4ddcd1a2",
        "colab": {
          "base_uri": "https://localhost:8080/"
        }
      },
      "execution_count": 44,
      "outputs": [
        {
          "output_type": "stream",
          "name": "stdout",
          "text": [
            "Введите число:5\n",
            "enter score:1\n",
            "enter score:2\n",
            "enter score:3\n",
            "enter score:4\n",
            "enter score:5\n",
            "enter score:6\n",
            "enter score:\n",
            "[5, 1, 2, 3, 4, 5, 6]\n"
          ]
        }
      ]
    }
  ],
  "metadata": {
    "colab": {
      "name": "Добро пожаловать в Colaboratory!",
      "toc_visible": true,
      "provenance": [],
      "include_colab_link": true
    },
    "kernelspec": {
      "display_name": "Python 3",
      "name": "python3"
    }
  },
  "nbformat": 4,
  "nbformat_minor": 0
}